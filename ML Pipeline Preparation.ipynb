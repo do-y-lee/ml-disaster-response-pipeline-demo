{
 "cells": [
  {
   "cell_type": "markdown",
   "metadata": {},
   "source": [
    "# ML Pipeline Preparation\n",
    "Follow the instructions below to help you create your ML pipeline.\n",
    "### 1. Import libraries and load data from database.\n",
    "- Import Python libraries\n",
    "- Load dataset from database with [`read_sql_table`](https://pandas.pydata.org/pandas-docs/stable/generated/pandas.read_sql_table.html)\n",
    "- Define feature and target variables X and Y"
   ]
  },
  {
   "cell_type": "markdown",
   "metadata": {},
   "source": [
    "#### Notes: NLP High-level Steps\n",
    "\n",
    "* normalize - lowercase and remove punctuations\n",
    "* tokenize\n",
    "* remove stop words\n",
    "* lemmatize / stem\n",
    "\n",
    "* feature extraction\n",
    "    * bag of words - corpus\n",
    "        * limitation: treats each word as equally important\n",
    "        * collect all words\n",
    "        * count of each word occurrence - document-term matrix\n",
    "        * each count represented as term frequency in each document - compare document-term frequency\n",
    "        * can calculate dot product of two row vectors; greater the dot product more similar\n",
    "        * better similarity calculation is cosine similarity; range between -1 and 1\n",
    "    * TF-IDF\n",
    "        * count number of documents; document frequency\n",
    "        * use document frequency and divide term frequencies by the document frequency of those terms\n",
    "        * this gives us a metric that is proportional to the frequency of occurrence of a term in a document, but inversely proportional to the number of documents it appears in\n",
    "        * it highlights the words that are more unique to a document, and thus better characterizing it\n",
    "        * tf-idf = product of two weights = term frequency * inverse document frequency; give weights to words\n"
   ]
  },
  {
   "cell_type": "code",
   "execution_count": 1,
   "metadata": {
    "collapsed": true
   },
   "outputs": [],
   "source": [
    "# import libraries\n",
    "import pickle\n",
    "import pandas as pd\n",
    "import numpy as np\n",
    "from sqlalchemy import create_engine\n",
    "import warnings\n",
    "warnings.filterwarnings('ignore')"
   ]
  },
  {
   "cell_type": "code",
   "execution_count": 2,
   "metadata": {
    "collapsed": false
   },
   "outputs": [
    {
     "name": "stderr",
     "output_type": "stream",
     "text": [
      "[nltk_data] Downloading package punkt to /Users/dlee/nltk_data...\n",
      "[nltk_data]   Package punkt is already up-to-date!\n",
      "[nltk_data] Downloading package stopwords to /Users/dlee/nltk_data...\n",
      "[nltk_data]   Package stopwords is already up-to-date!\n",
      "[nltk_data] Downloading package wordnet to /Users/dlee/nltk_data...\n",
      "[nltk_data]   Package wordnet is already up-to-date!\n"
     ]
    },
    {
     "data": {
      "text/plain": [
       "True"
      ]
     },
     "execution_count": 2,
     "metadata": {},
     "output_type": "execute_result"
    }
   ],
   "source": [
    "import re\n",
    "import nltk\n",
    "from nltk.corpus import stopwords\n",
    "from nltk.stem.wordnet import WordNetLemmatizer\n",
    "from nltk.tokenize import word_tokenize\n",
    "\n",
    "nltk.download('punkt')\n",
    "nltk.download('stopwords')\n",
    "nltk.download('wordnet')"
   ]
  },
  {
   "cell_type": "code",
   "execution_count": 56,
   "metadata": {
    "collapsed": true
   },
   "outputs": [],
   "source": [
    "from sklearn.metrics import confusion_matrix\n",
    "from sklearn.metrics import classification_report\n",
    "from sklearn.model_selection import GridSearchCV\n",
    "from sklearn.ensemble import RandomForestClassifier\n",
    "from sklearn.neighbors import KNeighborsClassifier\n",
    "from sklearn.model_selection import train_test_split\n",
    "from sklearn.pipeline import Pipeline, FeatureUnion\n",
    "from sklearn.base import BaseEstimator, TransformerMixin\n",
    "from sklearn.feature_extraction.text import CountVectorizer, TfidfTransformer\n",
    "from sklearn.multioutput import MultiOutputClassifier"
   ]
  },
  {
   "cell_type": "code",
   "execution_count": 42,
   "metadata": {
    "collapsed": false
   },
   "outputs": [
    {
     "name": "stdout",
     "output_type": "stream",
     "text": [
      "(26028,)\n",
      "(26028, 36)\n"
     ]
    }
   ],
   "source": [
    "# load data from database\n",
    "engine = create_engine('sqlite:///UdacityDisasterResponse.db')\n",
    "df = pd.read_sql_table('messages', engine)\n",
    "\n",
    "# remove rows with 2's under related column before split into X and y\n",
    "df = df[df.related != 2]\n",
    "\n",
    "X = df['message']\n",
    "y = df.iloc[:, 4:]\n",
    "\n",
    "print(X.shape)\n",
    "print(y.shape)"
   ]
  },
  {
   "cell_type": "code",
   "execution_count": 14,
   "metadata": {
    "collapsed": false
   },
   "outputs": [
    {
     "data": {
      "text/plain": [
       "0    Weather update - a cold front from Cuba that c...\n",
       "1              Is the Hurricane over or is it not over\n",
       "2                      Looking for someone but no name\n",
       "3    UN reports Leogane 80-90 destroyed. Only Hospi...\n",
       "4    says: west side of Haiti, rest of the country ...\n",
       "Name: message, dtype: object"
      ]
     },
     "execution_count": 14,
     "metadata": {},
     "output_type": "execute_result"
    }
   ],
   "source": [
    "X.head()"
   ]
  },
  {
   "cell_type": "markdown",
   "metadata": {},
   "source": [
    "### 2. Write a tokenization function to process your text data"
   ]
  },
  {
   "cell_type": "code",
   "execution_count": 11,
   "metadata": {
    "collapsed": true
   },
   "outputs": [],
   "source": [
    "def tokenize(text):\n",
    "    \"\"\"\n",
    "    Returns clean tokenized and lemmatized words\n",
    "    \n",
    "        Parameters:\n",
    "            text (str): Text message which needs to be tokenized\n",
    "            \n",
    "        Returns:\n",
    "            clean_tokens (list): List of tokens extracted from the provided text\n",
    "    \"\"\"\n",
    "    \n",
    "    url_regex = 'http[s]?://(?:[a-zA-Z]|[0-9]|[$-_@.&+]|[!*\\(\\),]|(?:%[0-9a-fA-F][0-9a-fA-F]))+'\n",
    "    \n",
    "    # identify urls\n",
    "    detected_urls = re.findall(url_regex, text)\n",
    "    \n",
    "    # replace urls\n",
    "    for detected_url in detected_urls:\n",
    "        text = text.replace(detected_url, \"urlplaceholder\")\n",
    "\n",
    "    # extract word tokens from provided text\n",
    "    tokens = nltk.word_tokenize(text)\n",
    "    \n",
    "    # lemmanitize by removing inflectional and derivationally related forms of a word\n",
    "    lemmatizer = nltk.WordNetLemmatizer()\n",
    "\n",
    "    # list of cleaned tokens\n",
    "    clean_tokens = [lemmatizer.lemmatize(w).lower().strip() for w in tokens]\n",
    "    \n",
    "    return clean_tokens"
   ]
  },
  {
   "cell_type": "markdown",
   "metadata": {},
   "source": [
    "### 3. Build a machine learning pipeline\n",
    "This machine pipeline should take in the `message` column as input and output classification results on the other 36 categories in the dataset. You may find the [MultiOutputClassifier](http://scikit-learn.org/stable/modules/generated/sklearn.multioutput.MultiOutputClassifier.html) helpful for predicting multiple target variables."
   ]
  },
  {
   "cell_type": "code",
   "execution_count": 9,
   "metadata": {
    "collapsed": true
   },
   "outputs": [],
   "source": [
    "class StartingVerbExtractor(BaseEstimator, TransformerMixin):\n",
    "    # Custom Class: extract the starting verb of a sentence; feature engineering step\n",
    "    def starting_verb(self, text):\n",
    "        # tokenize by sentences\n",
    "        sentence_list = nltk.sent_tokenize(text)\n",
    "        \n",
    "        for sentence in sentence_list:\n",
    "            # tokenize each sentence into words and tag part of speech\n",
    "            pos_tags = nltk.pos_tag(tokenize(sentence))\n",
    "            \n",
    "            # index pos_tags to get the first word and part of speech tag\n",
    "            first_word, first_tag = pos_tags[0]\n",
    "\n",
    "            # return true if the first word is an appropriate verb or RT for retweet\n",
    "            if first_tag in ['VB', 'VBP'] or first_word == 'RT':\n",
    "                return True\n",
    "        return False\n",
    "\n",
    "    def fit(self, x, y=None):\n",
    "        return self\n",
    "\n",
    "    def transform(self, X):\n",
    "        # apply starting_verb function to all values in X\n",
    "        X_tagged = pd.Series(X).apply(self.starting_verb)\n",
    "        return pd.DataFrame(X_tagged)"
   ]
  },
  {
   "cell_type": "code",
   "execution_count": 12,
   "metadata": {
    "collapsed": false
   },
   "outputs": [],
   "source": [
    "pipeline = Pipeline([\n",
    "        ('features', FeatureUnion([\n",
    "\n",
    "            ('text_pipeline', Pipeline([\n",
    "                ('count_vectorizer', CountVectorizer(tokenizer=tokenize)),\n",
    "                ('tfidf_transformer', TfidfTransformer())\n",
    "            ])),\n",
    "\n",
    "            ('starting_verb', StartingVerbExtractor())\n",
    "        ])),\n",
    "\n",
    "        ('clf', MultiOutputClassifier(RandomForestClassifier()))\n",
    "    ])"
   ]
  },
  {
   "cell_type": "markdown",
   "metadata": {},
   "source": [
    "### 4. Train pipeline\n",
    "- Split data into train and test sets\n",
    "- Train pipeline"
   ]
  },
  {
   "cell_type": "code",
   "execution_count": 13,
   "metadata": {
    "collapsed": false
   },
   "outputs": [],
   "source": [
    "X_train, X_test, y_train, y_test = train_test_split(X, y)\n",
    "pipeline_fit = pipeline.fit(X_train, y_train)"
   ]
  },
  {
   "cell_type": "markdown",
   "metadata": {},
   "source": [
    "### 5. Test your model\n",
    "Report the f1 score, precision and recall for each output category of the dataset. You can do this by iterating through the columns and calling sklearn's `classification_report` on each."
   ]
  },
  {
   "cell_type": "code",
   "execution_count": 15,
   "metadata": {
    "collapsed": false
   },
   "outputs": [
    {
     "name": "stdout",
     "output_type": "stream",
     "text": [
      "                        precision    recall  f1-score   support\n",
      "\n",
      "               related       0.82      0.97      0.89      5020\n",
      "               request       0.89      0.45      0.59      1145\n",
      "                 offer       0.00      0.00      0.00        32\n",
      "           aid_related       0.80      0.61      0.69      2777\n",
      "          medical_help       0.52      0.03      0.05       524\n",
      "      medical_products       0.69      0.05      0.09       356\n",
      "     search_and_rescue       0.76      0.07      0.13       176\n",
      "              security       0.00      0.00      0.00       130\n",
      "              military       0.71      0.04      0.08       227\n",
      "           child_alone       0.00      0.00      0.00         0\n",
      "                 water       0.94      0.24      0.39       440\n",
      "                  food       0.87      0.41      0.56       766\n",
      "               shelter       0.86      0.21      0.34       589\n",
      "              clothing       0.75      0.06      0.11       101\n",
      "                 money       1.00      0.03      0.07       144\n",
      "        missing_people       0.00      0.00      0.00        72\n",
      "              refugees       0.70      0.03      0.06       222\n",
      "                 death       0.82      0.11      0.19       287\n",
      "             other_aid       0.72      0.02      0.04       902\n",
      "infrastructure_related       0.00      0.00      0.00       413\n",
      "             transport       0.74      0.07      0.13       290\n",
      "             buildings       0.81      0.07      0.13       310\n",
      "           electricity       0.88      0.05      0.10       130\n",
      "                 tools       0.00      0.00      0.00        34\n",
      "             hospitals       0.00      0.00      0.00        59\n",
      "                 shops       0.00      0.00      0.00        23\n",
      "           aid_centers       0.00      0.00      0.00        75\n",
      "  other_infrastructure       0.50      0.00      0.01       295\n",
      "       weather_related       0.87      0.60      0.71      1775\n",
      "                floods       0.89      0.37      0.52       519\n",
      "                 storm       0.80      0.42      0.56       610\n",
      "                  fire       0.00      0.00      0.00        69\n",
      "            earthquake       0.89      0.74      0.81       565\n",
      "                  cold       0.91      0.07      0.14       135\n",
      "         other_weather       0.75      0.03      0.05       351\n",
      "         direct_report       0.86      0.35      0.50      1280\n",
      "\n",
      "             micro avg       0.83      0.49      0.62     20843\n",
      "             macro avg       0.58      0.17      0.22     20843\n",
      "          weighted avg       0.78      0.49      0.54     20843\n",
      "           samples avg       0.70      0.46      0.51     20843\n",
      "\n"
     ]
    }
   ],
   "source": [
    "y_pred_test = pipeline_fit.predict(X_test)\n",
    "print(classification_report(y_test.values, y_pred_test, target_names=y.columns.values))"
   ]
  },
  {
   "cell_type": "markdown",
   "metadata": {},
   "source": [
    "### 6. Improve your model\n",
    "Use grid search to find better parameters. "
   ]
  },
  {
   "cell_type": "code",
   "execution_count": 17,
   "metadata": {
    "collapsed": false
   },
   "outputs": [
    {
     "name": "stdout",
     "output_type": "stream",
     "text": [
      "memory\n",
      "steps\n",
      "verbose\n",
      "features\n",
      "clf\n",
      "features__n_jobs\n",
      "features__transformer_list\n",
      "features__transformer_weights\n",
      "features__verbose\n",
      "features__text_pipeline\n",
      "features__starting_verb\n",
      "features__text_pipeline__memory\n",
      "features__text_pipeline__steps\n",
      "features__text_pipeline__verbose\n",
      "features__text_pipeline__count_vectorizer\n",
      "features__text_pipeline__tfidf_transformer\n",
      "features__text_pipeline__count_vectorizer__analyzer\n",
      "features__text_pipeline__count_vectorizer__binary\n",
      "features__text_pipeline__count_vectorizer__decode_error\n",
      "features__text_pipeline__count_vectorizer__dtype\n",
      "features__text_pipeline__count_vectorizer__encoding\n",
      "features__text_pipeline__count_vectorizer__input\n",
      "features__text_pipeline__count_vectorizer__lowercase\n",
      "features__text_pipeline__count_vectorizer__max_df\n",
      "features__text_pipeline__count_vectorizer__max_features\n",
      "features__text_pipeline__count_vectorizer__min_df\n",
      "features__text_pipeline__count_vectorizer__ngram_range\n",
      "features__text_pipeline__count_vectorizer__preprocessor\n",
      "features__text_pipeline__count_vectorizer__stop_words\n",
      "features__text_pipeline__count_vectorizer__strip_accents\n",
      "features__text_pipeline__count_vectorizer__token_pattern\n",
      "features__text_pipeline__count_vectorizer__tokenizer\n",
      "features__text_pipeline__count_vectorizer__vocabulary\n",
      "features__text_pipeline__tfidf_transformer__norm\n",
      "features__text_pipeline__tfidf_transformer__smooth_idf\n",
      "features__text_pipeline__tfidf_transformer__sublinear_tf\n",
      "features__text_pipeline__tfidf_transformer__use_idf\n",
      "clf__estimator__bootstrap\n",
      "clf__estimator__ccp_alpha\n",
      "clf__estimator__class_weight\n",
      "clf__estimator__criterion\n",
      "clf__estimator__max_depth\n",
      "clf__estimator__max_features\n",
      "clf__estimator__max_leaf_nodes\n",
      "clf__estimator__max_samples\n",
      "clf__estimator__min_impurity_decrease\n",
      "clf__estimator__min_impurity_split\n",
      "clf__estimator__min_samples_leaf\n",
      "clf__estimator__min_samples_split\n",
      "clf__estimator__min_weight_fraction_leaf\n",
      "clf__estimator__n_estimators\n",
      "clf__estimator__n_jobs\n",
      "clf__estimator__oob_score\n",
      "clf__estimator__random_state\n",
      "clf__estimator__verbose\n",
      "clf__estimator__warm_start\n",
      "clf__estimator\n",
      "clf__n_jobs\n"
     ]
    }
   ],
   "source": [
    "for key_name in pipeline.get_params().keys():\n",
    "    print(key_name)"
   ]
  },
  {
   "cell_type": "markdown",
   "metadata": {},
   "source": [
    "#### Parameters defined in lecture\n",
    "```python\n",
    "parameters = {\n",
    "    'features__text_pipeline__count_vectorizer__ngram_range': ((1, 1), (1, 2)),\n",
    "    'features__text_pipeline__count_vectorizer__max_df': (0.5, 0.75, 1.0),\n",
    "    'features__text_pipeline__count_vectorizer__max_features': (None, 5000, 10000),\n",
    "    'features__text_pipeline__tfidf_transformer__use_idf': (True, False),\n",
    "    'clf__estimator__n_estimators': [50, 100, 200],\n",
    "    'clf__estimator__min_samples_split': [2, 3, 4],\n",
    "    'features__transformer_weights': (\n",
    "       {'text_pipeline': 1, 'starting_verb': 0.5},\n",
    "       {'text_pipeline': 0.5, 'starting_verb': 1},\n",
    "       {'text_pipeline': 0.8, 'starting_verb': 1},\n",
    "    )\n",
    "}\n",
    "```"
   ]
  },
  {
   "cell_type": "code",
   "execution_count": 20,
   "metadata": {
    "collapsed": false
   },
   "outputs": [
    {
     "name": "stdout",
     "output_type": "stream",
     "text": [
      "Fitting 5 folds for each of 9 candidates, totalling 45 fits\n",
      "CPU times: user 7min, sys: 2.67 s, total: 7min 3s\n",
      "Wall time: 1h 2min 39s\n"
     ]
    },
    {
     "data": {
      "text/plain": [
       "GridSearchCV(estimator=Pipeline(steps=[('features',\n",
       "                                        FeatureUnion(transformer_list=[('text_pipeline',\n",
       "                                                                        Pipeline(steps=[('count_vectorizer',\n",
       "                                                                                         CountVectorizer(tokenizer=<function tokenize at 0x150f76cb0>)),\n",
       "                                                                                        ('tfidf_transformer',\n",
       "                                                                                         TfidfTransformer())])),\n",
       "                                                                       ('starting_verb',\n",
       "                                                                        StartingVerbExtractor())])),\n",
       "                                       ('clf',\n",
       "                                        MultiOutputClassifier(estimator=RandomForestClassifier()))]),\n",
       "             n_jobs=-1,\n",
       "             param_grid={'clf__estimator__min_samples_split': [2, 3, 4],\n",
       "                         'features__text_pipeline__count_vectorizer__max_df': (0.5,\n",
       "                                                                               0.75,\n",
       "                                                                               1.0)},\n",
       "             verbose=5)"
      ]
     },
     "execution_count": 20,
     "metadata": {},
     "output_type": "execute_result"
    }
   ],
   "source": [
    "%%time \n",
    "\n",
    "parameters = {\n",
    "    'features__text_pipeline__count_vectorizer__max_df': (0.5, 0.75, 1.0),\n",
    "    'clf__estimator__min_samples_split': [2, 3, 4],\n",
    "}\n",
    "\n",
    "cv = GridSearchCV(pipeline, param_grid=parameters, n_jobs=-1, verbose=5)\n",
    "cv.fit(X_train, y_train)"
   ]
  },
  {
   "cell_type": "markdown",
   "metadata": {},
   "source": [
    "### 7. Test your model\n",
    "Show the accuracy, precision, and recall of the tuned model.  \n",
    "\n",
    "Since this project focuses on code quality, process, and  pipelines, there is no minimum performance metric needed to pass. However, make sure to fine tune your models for accuracy, precision and recall to make your project stand out - especially for your portfolio!"
   ]
  },
  {
   "cell_type": "code",
   "execution_count": 22,
   "metadata": {
    "collapsed": false
   },
   "outputs": [
    {
     "name": "stdout",
     "output_type": "stream",
     "text": [
      "                        precision    recall  f1-score   support\n",
      "\n",
      "               related       0.82      0.97      0.89      5020\n",
      "               request       0.89      0.44      0.59      1145\n",
      "                 offer       0.00      0.00      0.00        32\n",
      "           aid_related       0.79      0.64      0.71      2777\n",
      "          medical_help       0.74      0.05      0.09       524\n",
      "      medical_products       0.68      0.05      0.10       356\n",
      "     search_and_rescue       0.80      0.05      0.09       176\n",
      "              security       0.00      0.00      0.00       130\n",
      "              military       0.67      0.02      0.03       227\n",
      "           child_alone       0.00      0.00      0.00         0\n",
      "                 water       0.90      0.26      0.40       440\n",
      "                  food       0.86      0.45      0.59       766\n",
      "               shelter       0.84      0.27      0.41       589\n",
      "              clothing       0.67      0.08      0.14       101\n",
      "                 money       1.00      0.03      0.07       144\n",
      "        missing_people       0.00      0.00      0.00        72\n",
      "              refugees       0.54      0.03      0.06       222\n",
      "                 death       0.81      0.12      0.21       287\n",
      "             other_aid       0.57      0.02      0.03       902\n",
      "infrastructure_related       0.00      0.00      0.00       413\n",
      "             transport       0.81      0.06      0.11       290\n",
      "             buildings       0.86      0.10      0.18       310\n",
      "           electricity       1.00      0.06      0.12       130\n",
      "                 tools       0.00      0.00      0.00        34\n",
      "             hospitals       0.00      0.00      0.00        59\n",
      "                 shops       0.00      0.00      0.00        23\n",
      "           aid_centers       0.00      0.00      0.00        75\n",
      "  other_infrastructure       0.00      0.00      0.00       295\n",
      "       weather_related       0.86      0.63      0.73      1775\n",
      "                floods       0.90      0.33      0.48       519\n",
      "                 storm       0.80      0.45      0.58       610\n",
      "                  fire       0.00      0.00      0.00        69\n",
      "            earthquake       0.88      0.75      0.81       565\n",
      "                  cold       0.89      0.06      0.11       135\n",
      "         other_weather       0.60      0.03      0.05       351\n",
      "         direct_report       0.86      0.36      0.51      1280\n",
      "\n",
      "             micro avg       0.83      0.50      0.62     20843\n",
      "             macro avg       0.56      0.17      0.22     20843\n",
      "          weighted avg       0.76      0.50      0.54     20843\n",
      "           samples avg       0.70      0.47      0.51     20843\n",
      "\n"
     ]
    }
   ],
   "source": [
    "y_pred_test_cv = cv.predict(X_test)\n",
    "print(classification_report(y_test.values, y_pred_test_cv, target_names=y.columns.values))"
   ]
  },
  {
   "cell_type": "markdown",
   "metadata": {},
   "source": [
    "### 8. Try improving your model further. Here are a few ideas:\n",
    "* try other machine learning algorithms\n",
    "* add other features besides the TF-IDF"
   ]
  },
  {
   "cell_type": "code",
   "execution_count": 57,
   "metadata": {
    "collapsed": false
   },
   "outputs": [],
   "source": [
    "pipeline_v2 = Pipeline([\n",
    "        ('features', FeatureUnion([\n",
    "\n",
    "            ('text_pipeline', Pipeline([\n",
    "                ('count_vectorizer', CountVectorizer(tokenizer=tokenize)),\n",
    "                ('tfidf_transformer', TfidfTransformer())\n",
    "            ])),\n",
    "\n",
    "            ('starting_verb', StartingVerbExtractor())\n",
    "        ])),\n",
    "\n",
    "        ('clf', MultiOutputClassifier(KNeighborsClassifier()))\n",
    "    ])"
   ]
  },
  {
   "cell_type": "code",
   "execution_count": 58,
   "metadata": {
    "collapsed": false
   },
   "outputs": [
    {
     "name": "stdout",
     "output_type": "stream",
     "text": [
      "                        precision    recall  f1-score   support\n",
      "\n",
      "               related       0.82      0.95      0.88      5020\n",
      "               request       0.72      0.52      0.61      1145\n",
      "                 offer       0.00      0.00      0.00        32\n",
      "           aid_related       0.67      0.55      0.60      2777\n",
      "          medical_help       0.26      0.14      0.18       524\n",
      "      medical_products       0.26      0.17      0.21       356\n",
      "     search_and_rescue       0.47      0.05      0.09       176\n",
      "              security       0.00      0.00      0.00       130\n",
      "              military       0.67      0.08      0.14       227\n",
      "           child_alone       0.00      0.00      0.00         0\n",
      "                 water       0.48      0.33      0.39       440\n",
      "                  food       0.48      0.42      0.45       766\n",
      "               shelter       0.39      0.27      0.32       589\n",
      "              clothing       0.55      0.21      0.30       101\n",
      "                 money       0.62      0.11      0.19       144\n",
      "        missing_people       1.00      0.03      0.05        72\n",
      "              refugees       0.16      0.05      0.08       222\n",
      "                 death       0.29      0.24      0.27       287\n",
      "             other_aid       0.37      0.08      0.13       902\n",
      "infrastructure_related       0.16      0.04      0.06       413\n",
      "             transport       0.44      0.10      0.17       290\n",
      "             buildings       0.32      0.12      0.18       310\n",
      "           electricity       0.45      0.11      0.17       130\n",
      "                 tools       0.00      0.00      0.00        34\n",
      "             hospitals       0.00      0.00      0.00        59\n",
      "                 shops       0.00      0.00      0.00        23\n",
      "           aid_centers       0.20      0.01      0.03        75\n",
      "  other_infrastructure       0.12      0.02      0.04       295\n",
      "       weather_related       0.66      0.52      0.58      1775\n",
      "                floods       0.43      0.27      0.33       519\n",
      "                 storm       0.57      0.34      0.43       610\n",
      "                  fire       0.42      0.07      0.12        69\n",
      "            earthquake       0.71      0.45      0.55       565\n",
      "                  cold       0.72      0.10      0.17       135\n",
      "         other_weather       0.34      0.08      0.13       351\n",
      "         direct_report       0.70      0.43      0.54      1280\n",
      "\n",
      "             micro avg       0.67      0.48      0.56     20843\n",
      "             macro avg       0.40      0.19      0.23     20843\n",
      "          weighted avg       0.60      0.48      0.51     20843\n",
      "           samples avg       0.63      0.45      0.46     20843\n",
      "\n"
     ]
    }
   ],
   "source": [
    "pipeline_knc = pipeline_v2.fit(X_train, y_train)\n",
    "y_pred_test_knc = pipeline_knc.predict(X_test)\n",
    "print(classification_report(y_test.values, y_pred_test_knc, target_names=y.columns.values))"
   ]
  },
  {
   "cell_type": "markdown",
   "metadata": {},
   "source": [
    "### 9. Export your model as a pickle file"
   ]
  },
  {
   "cell_type": "code",
   "execution_count": 23,
   "metadata": {
    "collapsed": true
   },
   "outputs": [],
   "source": [
    "file_name = \"nlp_multi_classifier.pickle\"\n",
    "with open(file_name, 'wb') as pickle_file:\n",
    "    pickle.dump(cv, pickle_file)"
   ]
  },
  {
   "cell_type": "markdown",
   "metadata": {},
   "source": [
    "### 10. Use this notebook to complete `train.py`\n",
    "Use the template file attached in the Resources folder to write a script that runs the steps above to create a database and export a model based on a new dataset specified by the user."
   ]
  },
  {
   "cell_type": "markdown",
   "metadata": {
    "collapsed": true
   },
   "source": [
    "## Appendix\n",
    "\n",
    "#### Lesson 4.17 Machine Learning Pipeline: case study - create custom transformer \n",
    "\n",
    "```python\n",
    "def load_data():\n",
    "    df = pd.read_csv('corporate_messaging.csv', encoding='latin-1')\n",
    "    df = df[(df[\"category:confidence\"] == 1) & (df['category'] != 'Exclude')]\n",
    "    X = df.text.values\n",
    "    y = df.category.values\n",
    "    return X, y\n",
    "\n",
    "\n",
    "def tokenize(text):\n",
    "    detected_urls = re.findall(url_regex, text)\n",
    "    for url in detected_urls:\n",
    "        text = text.replace(url, \"urlplaceholder\")\n",
    "\n",
    "    tokens = word_tokenize(text)\n",
    "    lemmatizer = WordNetLemmatizer()\n",
    "\n",
    "    clean_tokens = []\n",
    "    for tok in tokens:\n",
    "        clean_tok = lemmatizer.lemmatize(tok).lower().strip()\n",
    "        clean_tokens.append(clean_tok)\n",
    "\n",
    "    return clean_tokens\n",
    "\n",
    "\n",
    "def model_pipeline():\n",
    "    pipeline = Pipeline([\n",
    "        ('features', FeatureUnion([\n",
    "\n",
    "            ('text_pipeline', Pipeline([\n",
    "                ('vect', CountVectorizer(tokenizer=tokenize)),\n",
    "                ('tfidf', TfidfTransformer())\n",
    "            ])),\n",
    "\n",
    "            ('starting_verb', StartingVerbExtractor())\n",
    "        ])),\n",
    "\n",
    "        ('clf', RandomForestClassifier())\n",
    "    ])\n",
    "\n",
    "    return pipeline\n",
    "\n",
    "\n",
    "def display_results(y_test, y_pred):\n",
    "    labels = np.unique(y_pred)\n",
    "    confusion_mat = confusion_matrix(y_test, y_pred, labels=labels)\n",
    "    accuracy = (y_pred == y_test).mean()\n",
    "\n",
    "    print(\"Labels:\", labels)\n",
    "    print(\"Confusion Matrix:\\n\", confusion_mat)\n",
    "    print(\"Accuracy:\", accuracy)\n",
    "\n",
    "\n",
    "def main():\n",
    "    X, y = load_data()\n",
    "    X_train, X_test, y_train, y_test = train_test_split(X, y)\n",
    "\n",
    "    model = model_pipeline()\n",
    "    model.fit(X_train, y_train)\n",
    "    y_pred = model.predict(X_test)\n",
    "\n",
    "    display_results(y_test, y_pred)\n",
    "\n",
    "main()\n",
    "```\n",
    "\n",
    "#### This is an example from Lession 4.22 using GridSearch and preventing data leakage using Sklearn's pipeline.\n",
    "\n",
    "```python\n",
    "import nltk\n",
    "nltk.download(['punkt', 'wordnet', 'averaged_perceptron_tagger'])\n",
    "\n",
    "import re\n",
    "import numpy as np\n",
    "import pandas as pd\n",
    "from nltk.tokenize import word_tokenize\n",
    "from nltk.stem import WordNetLemmatizer\n",
    "\n",
    "from sklearn.metrics import confusion_matrix\n",
    "from sklearn.model_selection import GridSearchCV\n",
    "from sklearn.ensemble import RandomForestClassifier\n",
    "from sklearn.model_selection import train_test_split\n",
    "from sklearn.pipeline import Pipeline, FeatureUnion\n",
    "from sklearn.base import BaseEstimator, TransformerMixin\n",
    "from sklearn.feature_extraction.text import CountVectorizer, TfidfTransformer\n",
    "\n",
    "url_regex = 'http[s]?://(?:[a-zA-Z]|[0-9]|[$-_@.&+]|[!*\\(\\),]|(?:%[0-9a-fA-F][0-9a-fA-F]))+'\n",
    "\n",
    "\n",
    "class StartingVerbExtractor(BaseEstimator, TransformerMixin):\n",
    "\n",
    "    def starting_verb(self, text):\n",
    "        sentence_list = nltk.sent_tokenize(text)\n",
    "        for sentence in sentence_list:\n",
    "            pos_tags = nltk.pos_tag(tokenize(sentence))\n",
    "            first_word, first_tag = pos_tags[0]\n",
    "            if first_tag in ['VB', 'VBP'] or first_word == 'RT':\n",
    "                return True\n",
    "        return False\n",
    "\n",
    "    def fit(self, x, y=None):\n",
    "        return self\n",
    "\n",
    "    def transform(self, X):\n",
    "        X_tagged = pd.Series(X).apply(self.starting_verb)\n",
    "        return pd.DataFrame(X_tagged)\n",
    "\n",
    "\n",
    "def load_data():\n",
    "    df = pd.read_csv('corporate_messaging.csv', encoding='latin-1')\n",
    "    df = df[(df[\"category:confidence\"] == 1) & (df['category'] != 'Exclude')]\n",
    "    X = df.text.values\n",
    "    y = df.category.values\n",
    "    return X, y\n",
    "\n",
    "\n",
    "def tokenize(text):\n",
    "    detected_urls = re.findall(url_regex, text)\n",
    "    for url in detected_urls:\n",
    "        text = text.replace(url, \"urlplaceholder\")\n",
    "\n",
    "    tokens = word_tokenize(text)\n",
    "    lemmatizer = WordNetLemmatizer()\n",
    "\n",
    "    clean_tokens = []\n",
    "    for tok in tokens:\n",
    "        clean_tok = lemmatizer.lemmatize(tok).lower().strip()\n",
    "        clean_tokens.append(clean_tok)\n",
    "\n",
    "    return clean_tokens\n",
    "\n",
    "\n",
    "def build_model():\n",
    "    pipeline = Pipeline([\n",
    "        ('features', FeatureUnion([\n",
    "\n",
    "            ('text_pipeline', Pipeline([\n",
    "                ('vect', CountVectorizer(tokenizer=tokenize)),\n",
    "                ('tfidf', TfidfTransformer())\n",
    "            ])),\n",
    "\n",
    "            ('starting_verb', StartingVerbExtractor())\n",
    "        ])),\n",
    "\n",
    "        ('clf', RandomForestClassifier())\n",
    "    ])\n",
    "\n",
    "    parameters = {\n",
    "        'features__text_pipeline__vect__ngram_range': ((1, 1), (1, 2)),\n",
    "        'features__text_pipeline__vect__max_df': (0.5, 0.75, 1.0),\n",
    "        'features__text_pipeline__vect__max_features': (None, 5000, 10000),\n",
    "        'features__text_pipeline__tfidf__use_idf': (True, False),\n",
    "        'clf__n_estimators': [50, 100, 200],\n",
    "        'clf__min_samples_split': [2, 3, 4],\n",
    "        'features__transformer_weights': (\n",
    "            {'text_pipeline': 1, 'starting_verb': 0.5},\n",
    "            {'text_pipeline': 0.5, 'starting_verb': 1},\n",
    "            {'text_pipeline': 0.8, 'starting_verb': 1},\n",
    "        )\n",
    "    }\n",
    "\n",
    "    cv = GridSearchCV(pipeline, param_grid=parameters)\n",
    "\n",
    "    return cv\n",
    "\n",
    "\n",
    "def display_results(cv, y_test, y_pred):\n",
    "    labels = np.unique(y_pred)\n",
    "    confusion_mat = confusion_matrix(y_test, y_pred, labels=labels)\n",
    "    accuracy = (y_pred == y_test).mean()\n",
    "\n",
    "    print(\"Labels:\", labels)\n",
    "    print(\"Confusion Matrix:\\n\", confusion_mat)\n",
    "    print(\"Accuracy:\", accuracy)\n",
    "    print(\"\\nBest Parameters:\", cv.best_params_)\n",
    "\n",
    "\n",
    "def main():\n",
    "    X, y = load_data()\n",
    "    X_train, X_test, y_train, y_test = train_test_split(X, y)\n",
    "\n",
    "    model = build_model()\n",
    "    model.fit(X_train, y_train)\n",
    "    y_pred = model.predict(X_test)\n",
    "\n",
    "    display_results(model, y_test, y_pred)\n",
    "\n",
    "main()\n",
    "```"
   ]
  },
  {
   "cell_type": "code",
   "execution_count": null,
   "metadata": {
    "collapsed": true
   },
   "outputs": [],
   "source": []
  }
 ],
 "metadata": {
  "kernelspec": {
   "display_name": "Python 3",
   "language": "python",
   "name": "python3"
  },
  "language_info": {
   "codemirror_mode": {
    "name": "ipython",
    "version": 3
   },
   "file_extension": ".py",
   "mimetype": "text/x-python",
   "name": "python",
   "nbconvert_exporter": "python",
   "pygments_lexer": "ipython3",
   "version": "3.7.4"
  }
 },
 "nbformat": 4,
 "nbformat_minor": 2
}
